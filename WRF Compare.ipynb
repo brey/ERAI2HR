{
 "cells": [
  {
   "cell_type": "code",
   "execution_count": 1,
   "metadata": {
    "collapsed": true,
    "deletable": true,
    "editable": true
   },
   "outputs": [],
   "source": [
    "import numpy as np\n",
    "from netCDF4 import Dataset\n",
    "from mpl_toolkits.basemap import Basemap, shiftgrid\n",
    "import matplotlib.pyplot as plt\n",
    "import os\n",
    "import pygrib\n",
    "from copy import deepcopy\n",
    "import datetime\n",
    "from ipywidgets import *\n",
    "import pandas as pd\n",
    "import glob"
   ]
  },
  {
   "cell_type": "code",
   "execution_count": 2,
   "metadata": {
    "collapsed": true,
    "deletable": true,
    "editable": true
   },
   "outputs": [],
   "source": [
    "%matplotlib inline"
   ]
  },
  {
   "cell_type": "code",
   "execution_count": 3,
   "metadata": {
    "collapsed": false,
    "deletable": true,
    "editable": true
   },
   "outputs": [],
   "source": [
    "os.environ['CFLAGS']='-I/usr/local/lib/python2.7/dist-packages/numpy/core/include'"
   ]
  },
  {
   "cell_type": "code",
   "execution_count": 4,
   "metadata": {
    "collapsed": false,
    "deletable": true,
    "editable": true
   },
   "outputs": [],
   "source": [
    "from meteo import wmap"
   ]
  },
  {
   "cell_type": "code",
   "execution_count": 5,
   "metadata": {
    "collapsed": false,
    "deletable": true,
    "editable": true
   },
   "outputs": [],
   "source": [
    "def shiftmap(varin):\n",
    "\n",
    "    zlon=varin.shape[1]\n",
    "    varin_ = np.hstack([varin[:,zlon/2:],varin[:,0:zlon/2]])\n",
    "    svarin  = varin_\n",
    "    return svarin\n",
    "    \n",
    "def erai_parser(filename,minlon,maxlon,minlat,maxlat):\n",
    "    erai=pygrib.open(filename)\n",
    "    pp,uu,vv=erai[8].data()[0],erai[2].data()[0],erai[3].data()[0]\n",
    "    ilat,ilon=erai[8].latlons()\n",
    "\n",
    "    lon=ilon[0,:]\n",
    "    lat=np.flipud(ilat)[:,0]\n",
    "\n",
    "    pp=pp*.01 #convert tp hPa\n",
    "    \n",
    "    if minlon < 0. :\n",
    "        lon=lon-180.\n",
    " \n",
    "    pp=shiftmap(pp)\n",
    "    uu=shiftmap(uu)\n",
    "    vv=shiftmap(vv)\n",
    "    i1=np.abs(lon-minlon).argmin()-2\n",
    "    i2=np.abs(lon-maxlon).argmin()+2\n",
    "    j1=np.abs(lat-minlat).argmin()-2\n",
    "    j2=np.abs(lat-maxlat).argmin()+2\n",
    "    \n",
    "    pp=np.flipud(pp)\n",
    "    uu=np.flipud(uu)\n",
    "    vv=np.flipud(vv)\n",
    "\n",
    "    lons, lats = np.meshgrid(lon[i1:i2],lat[j1:j2])\n",
    "    p=deepcopy(pp[j1:j2,i1:i2])   \n",
    "    u=deepcopy(uu[j1:j2,i1:i2])\n",
    "    v=deepcopy(vv[j1:j2,i1:i2])\n",
    "    \n",
    "    return p,u,v,lats,lons\n"
   ]
  },
  {
   "cell_type": "markdown",
   "metadata": {
    "deletable": true,
    "editable": true
   },
   "source": [
    "## Analyse wrf"
   ]
  },
  {
   "cell_type": "code",
   "execution_count": 6,
   "metadata": {
    "collapsed": false,
    "deletable": true,
    "editable": true
   },
   "outputs": [],
   "source": [
    "#WRF Data\n",
    "wrf=Dataset('/mnt/poseidon/INGRID_BIGGER_WINDOW/wrfout.nc')"
   ]
  },
  {
   "cell_type": "code",
   "execution_count": 7,
   "metadata": {
    "collapsed": false,
    "deletable": true,
    "editable": true
   },
   "outputs": [],
   "source": [
    "# Grab these variables for now\n",
    "temps =  wrf.variables['T2']\n",
    "u_wind_ms = wrf.variables['U10']\n",
    "v_wind_ms = wrf.variables['V10']\n",
    "psfc = wrf.variables['PSFC']\n",
    "T = wrf.variables['T']\n",
    "times = wrf.variables['Times']"
   ]
  },
  {
   "cell_type": "code",
   "execution_count": 8,
   "metadata": {
    "collapsed": false,
    "deletable": true,
    "editable": true
   },
   "outputs": [],
   "source": [
    "# x_dim and y_dim are the x and y dimensions of the model\n",
    "# domain in gridpoints\n",
    "x_dim = len(wrf.dimensions['west_east'])\n",
    "y_dim = len(wrf.dimensions['south_north'])\n",
    "\n",
    "# Get the grid spacing\n",
    "dx = float(wrf.DX)\n",
    "dy = float(wrf.DY)\n",
    "\n",
    "width_meters = dx * (x_dim - 1)\n",
    "height_meters = dy * (y_dim - 1)\n",
    "\n",
    "cen_lat = float(wrf.CEN_LAT)\n",
    "cen_lon = float(wrf.CEN_LON)\n",
    "truelat1 = float(wrf.TRUELAT1)\n",
    "truelat2 = float(wrf.TRUELAT2)\n",
    "standlon = float(wrf.STAND_LON)\n",
    "#truelat1 = float(60)\n",
    "#truelat2 = float(10)\n",
    "\n"
   ]
  },
  {
   "cell_type": "code",
   "execution_count": 9,
   "metadata": {
    "collapsed": true,
    "deletable": true,
    "editable": true
   },
   "outputs": [],
   "source": [
    "minlon=wrf.variables['XLONG'][0].min()-1\n",
    "maxlon=wrf.variables['XLONG'][0].max()+1\n",
    "minlat=wrf.variables['XLAT'][0].min()-1\n",
    "maxlat=wrf.variables['XLAT'][0].max()+1\n"
   ]
  },
  {
   "cell_type": "code",
   "execution_count": 10,
   "metadata": {
    "collapsed": false,
    "deletable": true,
    "editable": true
   },
   "outputs": [
    {
     "data": {
      "text/plain": [
       "(-106.36001586914062,\n",
       " -83.639999389648438,\n",
       " 8.6400003433227539,\n",
       " 31.360000610351562)"
      ]
     },
     "execution_count": 10,
     "metadata": {},
     "output_type": "execute_result"
    }
   ],
   "source": [
    "minlon,maxlon,minlat,maxlat"
   ]
  },
  {
   "cell_type": "code",
   "execution_count": 11,
   "metadata": {
    "collapsed": true,
    "deletable": true,
    "editable": true
   },
   "outputs": [],
   "source": [
    "# define parallels and meridians to draw.\n",
    "parallels = np.arange(-90.,90,5.)\n",
    "meridians = np.arange(0.,360.,5.)\n"
   ]
  },
  {
   "cell_type": "code",
   "execution_count": 12,
   "metadata": {
    "collapsed": true,
    "deletable": true,
    "editable": true
   },
   "outputs": [],
   "source": [
    "m = Basemap(projection='cyl',llcrnrlat=minlat,urcrnrlat=maxlat,\\\n",
    "             llcrnrlon=minlon,urcrnrlon=maxlon,resolution='h')\n"
   ]
  },
  {
   "cell_type": "code",
   "execution_count": 13,
   "metadata": {
    "collapsed": false,
    "deletable": true,
    "editable": true
   },
   "outputs": [],
   "source": [
    "# This sets the standard grid point structure at full resolution\n",
    "x,y = m(wrf.variables['XLONG'][0],wrf.variables['XLAT'][0])\n"
   ]
  },
  {
   "cell_type": "code",
   "execution_count": 14,
   "metadata": {
    "collapsed": true,
    "deletable": true,
    "editable": true
   },
   "outputs": [],
   "source": [
    "# Thin factor is used for thinning out wind barbs\n",
    "thin = 5"
   ]
  },
  {
   "cell_type": "code",
   "execution_count": 15,
   "metadata": {
    "collapsed": true,
    "deletable": true,
    "editable": true
   },
   "outputs": [],
   "source": [
    "# Set universal figure margins\n",
    "width = 10\n",
    "height = 8\n"
   ]
  },
  {
   "cell_type": "code",
   "execution_count": 16,
   "metadata": {
    "collapsed": false,
    "deletable": true,
    "editable": true
   },
   "outputs": [],
   "source": [
    "plt.ioff()\n",
    "plt.figure(figsize=(width,height))\n",
    "plt.rc(\"figure.subplot\", left = .001)\n",
    "plt.rc(\"figure.subplot\", right = .999)\n",
    "plt.rc(\"figure.subplot\", bottom = .001)\n",
    "plt.rc(\"figure.subplot\", top = .999)\n",
    "\n",
    "plt.ion()"
   ]
  },
  {
   "cell_type": "markdown",
   "metadata": {
    "deletable": true,
    "editable": true
   },
   "source": [
    "### compute mslp for all times of WRF"
   ]
  },
  {
   "cell_type": "code",
   "execution_count": 17,
   "metadata": {
    "collapsed": false,
    "deletable": true,
    "editable": true
   },
   "outputs": [],
   "source": [
    "# Convert Surface Pressure to Mean Sea Level Pressure\n",
    "sts = temps+6.5*wrf.variables['HGT'][:]/1000.\n",
    "p1 = wrf.variables['PSFC'][:]*np.exp(9.81/(287.0*sts)*wrf.variables['HGT'][:])*0.01 + (6.7 * wrf.variables['HGT'][:] / 1000)"
   ]
  },
  {
   "cell_type": "code",
   "execution_count": 18,
   "metadata": {
    "collapsed": false,
    "deletable": true,
    "editable": true
   },
   "outputs": [
    {
     "data": {
      "text/plain": [
       "(241, 149, 149)"
      ]
     },
     "execution_count": 18,
     "metadata": {},
     "output_type": "execute_result"
    }
   ],
   "source": [
    "p1.shape"
   ]
  },
  {
   "cell_type": "markdown",
   "metadata": {
    "deletable": true,
    "editable": true
   },
   "source": [
    "### read all ecmwf data"
   ]
  },
  {
   "cell_type": "code",
   "execution_count": 19,
   "metadata": {
    "collapsed": true,
    "deletable": true,
    "editable": true
   },
   "outputs": [],
   "source": [
    "def perdelta(start, end, delta):\n",
    "    curr = start\n",
    "    while curr < end:\n",
    "        yield curr\n",
    "        curr += delta\n"
   ]
  },
  {
   "cell_type": "code",
   "execution_count": 20,
   "metadata": {
    "collapsed": false,
    "deletable": true,
    "editable": true
   },
   "outputs": [
    {
     "name": "stdout",
     "output_type": "stream",
     "text": [
      "2013-09-10 00:00:00 2013-09-20 00:00:00\n"
     ]
    }
   ],
   "source": [
    "sdate=datetime.datetime.strptime(''.join(times[0]),'%Y-%m-%d_%H:%M:%S')\n",
    "edate=datetime.datetime.strptime(''.join(times[-1]),'%Y-%m-%d_%H:%M:%S')\n",
    "print sdate, edate"
   ]
  },
  {
   "cell_type": "code",
   "execution_count": 21,
   "metadata": {
    "collapsed": false,
    "deletable": true,
    "editable": true,
    "scrolled": true
   },
   "outputs": [
    {
     "name": "stderr",
     "output_type": "stream",
     "text": [
      "100%|██████████| 36/36 [00:16<00:00,  2.39it/s]\n",
      "  0%|          | 0/36 [00:00<?, ?it/s]"
     ]
    },
    {
     "name": "stdout",
     "output_type": "stream",
     "text": [
      "\n",
      "meteo done\n",
      "2013-09-10 00:00:00\n"
     ]
    },
    {
     "name": "stderr",
     "output_type": "stream",
     "text": [
      "100%|██████████| 36/36 [00:19<00:00,  2.02it/s]\n",
      "  0%|          | 0/36 [00:00<?, ?it/s]"
     ]
    },
    {
     "name": "stdout",
     "output_type": "stream",
     "text": [
      "\n",
      "meteo done\n",
      "2013-09-10 12:00:00\n"
     ]
    },
    {
     "name": "stderr",
     "output_type": "stream",
     "text": [
      "100%|██████████| 36/36 [00:18<00:00,  1.97it/s]\n",
      "  0%|          | 0/36 [00:00<?, ?it/s]"
     ]
    },
    {
     "name": "stdout",
     "output_type": "stream",
     "text": [
      "\n",
      "meteo done\n",
      "2013-09-11 00:00:00\n"
     ]
    },
    {
     "name": "stderr",
     "output_type": "stream",
     "text": [
      "100%|██████████| 36/36 [00:18<00:00,  2.48it/s]\n",
      "  0%|          | 0/36 [00:00<?, ?it/s]"
     ]
    },
    {
     "name": "stdout",
     "output_type": "stream",
     "text": [
      "\n",
      "meteo done\n",
      "2013-09-11 12:00:00\n"
     ]
    },
    {
     "name": "stderr",
     "output_type": "stream",
     "text": [
      "100%|██████████| 36/36 [00:18<00:00,  1.93it/s]\n",
      "  0%|          | 0/36 [00:00<?, ?it/s]"
     ]
    },
    {
     "name": "stdout",
     "output_type": "stream",
     "text": [
      "\n",
      "meteo done\n",
      "2013-09-12 00:00:00\n"
     ]
    },
    {
     "name": "stderr",
     "output_type": "stream",
     "text": [
      "100%|██████████| 36/36 [00:20<00:00,  1.93it/s]\n",
      "  0%|          | 0/36 [00:00<?, ?it/s]"
     ]
    },
    {
     "name": "stdout",
     "output_type": "stream",
     "text": [
      "\n",
      "meteo done\n",
      "2013-09-12 12:00:00\n"
     ]
    },
    {
     "name": "stderr",
     "output_type": "stream",
     "text": [
      "100%|██████████| 36/36 [00:18<00:00,  2.19it/s]\n",
      "  0%|          | 0/36 [00:00<?, ?it/s]"
     ]
    },
    {
     "name": "stdout",
     "output_type": "stream",
     "text": [
      "\n",
      "meteo done\n",
      "2013-09-13 00:00:00\n"
     ]
    },
    {
     "name": "stderr",
     "output_type": "stream",
     "text": [
      "100%|██████████| 36/36 [00:19<00:00,  1.85it/s]\n",
      "  0%|          | 0/36 [00:00<?, ?it/s]"
     ]
    },
    {
     "name": "stdout",
     "output_type": "stream",
     "text": [
      "\n",
      "meteo done\n",
      "2013-09-13 12:00:00\n"
     ]
    },
    {
     "name": "stderr",
     "output_type": "stream",
     "text": [
      "100%|██████████| 36/36 [00:17<00:00,  2.24it/s]\n",
      "  0%|          | 0/36 [00:00<?, ?it/s]"
     ]
    },
    {
     "name": "stdout",
     "output_type": "stream",
     "text": [
      "\n",
      "meteo done\n",
      "2013-09-14 00:00:00\n"
     ]
    },
    {
     "name": "stderr",
     "output_type": "stream",
     "text": [
      "100%|██████████| 36/36 [00:18<00:00,  1.91it/s]\n",
      "  0%|          | 0/36 [00:00<?, ?it/s]"
     ]
    },
    {
     "name": "stdout",
     "output_type": "stream",
     "text": [
      "\n",
      "meteo done\n",
      "2013-09-14 12:00:00\n"
     ]
    },
    {
     "name": "stderr",
     "output_type": "stream",
     "text": [
      "100%|██████████| 36/36 [00:18<00:00,  1.79it/s]\n",
      "  0%|          | 0/36 [00:00<?, ?it/s]"
     ]
    },
    {
     "name": "stdout",
     "output_type": "stream",
     "text": [
      "\n",
      "meteo done\n",
      "2013-09-15 00:00:00\n"
     ]
    },
    {
     "name": "stderr",
     "output_type": "stream",
     "text": [
      "100%|██████████| 36/36 [00:18<00:00,  1.94it/s]\n",
      "  0%|          | 0/36 [00:00<?, ?it/s]"
     ]
    },
    {
     "name": "stdout",
     "output_type": "stream",
     "text": [
      "\n",
      "meteo done\n",
      "2013-09-15 12:00:00\n"
     ]
    },
    {
     "name": "stderr",
     "output_type": "stream",
     "text": [
      "100%|██████████| 36/36 [00:17<00:00,  2.21it/s]\n",
      "  0%|          | 0/36 [00:00<?, ?it/s]"
     ]
    },
    {
     "name": "stdout",
     "output_type": "stream",
     "text": [
      "\n",
      "meteo done\n",
      "2013-09-16 00:00:00\n"
     ]
    },
    {
     "name": "stderr",
     "output_type": "stream",
     "text": [
      "100%|██████████| 36/36 [00:17<00:00,  1.81it/s]\n",
      "  0%|          | 0/36 [00:00<?, ?it/s]"
     ]
    },
    {
     "name": "stdout",
     "output_type": "stream",
     "text": [
      "\n",
      "meteo done\n",
      "2013-09-16 12:00:00\n"
     ]
    },
    {
     "name": "stderr",
     "output_type": "stream",
     "text": [
      "100%|██████████| 36/36 [00:19<00:00,  1.77it/s]\n",
      "  0%|          | 0/36 [00:00<?, ?it/s]"
     ]
    },
    {
     "name": "stdout",
     "output_type": "stream",
     "text": [
      "\n",
      "meteo done\n",
      "2013-09-17 00:00:00\n"
     ]
    },
    {
     "name": "stderr",
     "output_type": "stream",
     "text": [
      "100%|██████████| 36/36 [00:18<00:00,  1.87it/s]\n",
      "  0%|          | 0/36 [00:00<?, ?it/s]"
     ]
    },
    {
     "name": "stdout",
     "output_type": "stream",
     "text": [
      "\n",
      "meteo done\n",
      "2013-09-17 12:00:00\n"
     ]
    },
    {
     "name": "stderr",
     "output_type": "stream",
     "text": [
      "100%|██████████| 36/36 [00:17<00:00,  2.17it/s]\n",
      "  0%|          | 0/36 [00:00<?, ?it/s]"
     ]
    },
    {
     "name": "stdout",
     "output_type": "stream",
     "text": [
      "\n",
      "meteo done\n",
      "2013-09-18 00:00:00\n"
     ]
    },
    {
     "name": "stderr",
     "output_type": "stream",
     "text": [
      "100%|██████████| 36/36 [00:18<00:00,  1.86it/s]\n",
      "  0%|          | 0/36 [00:00<?, ?it/s]"
     ]
    },
    {
     "name": "stdout",
     "output_type": "stream",
     "text": [
      "\n",
      "meteo done\n",
      "2013-09-18 12:00:00\n"
     ]
    },
    {
     "name": "stderr",
     "output_type": "stream",
     "text": [
      "100%|██████████| 36/36 [00:15<00:00,  2.48it/s]\n",
      "  0%|          | 0/36 [00:00<?, ?it/s]"
     ]
    },
    {
     "name": "stdout",
     "output_type": "stream",
     "text": [
      "\n",
      "meteo done\n",
      "2013-09-19 00:00:00\n"
     ]
    },
    {
     "name": "stderr",
     "output_type": "stream",
     "text": [
      "100%|██████████| 36/36 [00:17<00:00,  2.12it/s]"
     ]
    },
    {
     "name": "stdout",
     "output_type": "stream",
     "text": [
      "\n",
      "meteo done\n",
      "2013-09-19 12:00:00\n"
     ]
    },
    {
     "name": "stderr",
     "output_type": "stream",
     "text": [
      "\n"
     ]
    }
   ],
   "source": [
    " \n",
    "pt=[]\n",
    "ut=[]\n",
    "vt=[]\n",
    "for date in perdelta(sdate, edate, datetime.timedelta(hours=12)):\n",
    "    yyyy=date.year # this is for facilitating the folder format below\n",
    "    mm=date.month\n",
    "    dd=date.day\n",
    "    hh=date.hour\n",
    "\n",
    "    path='/mnt/poseidon/INGRID/OPER/WDIRA/{:04d}/{:02d}/{:02d}/'.format(yyyy,mm,dd)\n",
    "\n",
    "    filename=path+'{:04d}{:02d}{:02d}.{:02d}.{}.grib'.format(yyyy,mm,dd,hh,'tropical_cyclone')\n",
    "    nt=11\n",
    "    p2,u2,v2,y2,x2 = wmap(filename,0,3*(nt+1),minlon,maxlon,minlat,maxlat)\n",
    "    \n",
    "    print date\n",
    "    \n",
    "    pt.append(p2)\n",
    "    ut.append(u2)\n",
    "    vt.append(v2)"
   ]
  },
  {
   "cell_type": "code",
   "execution_count": 22,
   "metadata": {
    "collapsed": true,
    "deletable": true,
    "editable": true
   },
   "outputs": [],
   "source": [
    "pt = np.array(pt)\n",
    "ut = np.array(ut)\n",
    "vt = np.array(vt)"
   ]
  },
  {
   "cell_type": "code",
   "execution_count": 23,
   "metadata": {
    "collapsed": false,
    "deletable": true,
    "editable": true
   },
   "outputs": [],
   "source": [
    "ptt = pt.reshape(pt.shape[0]*pt.shape[1],pt.shape[-2],pt.shape[-1])  # consolidate time frames\n",
    "utt = ut.reshape(ut.shape[0]*ut.shape[1],ut.shape[-2],ut.shape[-1])  # consolidate time frames\n",
    "vtt = vt.reshape(vt.shape[0]*vt.shape[1],vt.shape[-2],vt.shape[-1])  # consolidate time frames"
   ]
  },
  {
   "cell_type": "markdown",
   "metadata": {
    "deletable": true,
    "editable": true
   },
   "source": [
    "### retrieve all of ERAI"
   ]
  },
  {
   "cell_type": "code",
   "execution_count": 24,
   "metadata": {
    "collapsed": false
   },
   "outputs": [
    {
     "data": {
      "text/plain": [
       "datetime.datetime(2013, 9, 20, 0, 0)"
      ]
     },
     "execution_count": 24,
     "metadata": {},
     "output_type": "execute_result"
    }
   ],
   "source": [
    "edate"
   ]
  },
  {
   "cell_type": "code",
   "execution_count": 25,
   "metadata": {
    "collapsed": false,
    "deletable": true,
    "editable": true,
    "scrolled": true
   },
   "outputs": [
    {
     "name": "stdout",
     "output_type": "stream",
     "text": [
      "2013-09-10 00:00:00\n",
      "2013-09-10 06:00:00\n",
      "2013-09-10 12:00:00\n",
      "2013-09-10 18:00:00\n",
      "2013-09-11 00:00:00\n",
      "2013-09-11 06:00:00\n",
      "2013-09-11 12:00:00\n",
      "2013-09-11 18:00:00\n",
      "2013-09-12 00:00:00\n",
      "2013-09-12 06:00:00\n",
      "2013-09-12 12:00:00\n",
      "2013-09-12 18:00:00\n",
      "2013-09-13 00:00:00\n",
      "2013-09-13 06:00:00\n",
      "2013-09-13 12:00:00\n",
      "2013-09-13 18:00:00\n",
      "2013-09-14 00:00:00\n",
      "2013-09-14 06:00:00\n",
      "2013-09-14 12:00:00\n",
      "2013-09-14 18:00:00\n",
      "2013-09-15 00:00:00\n",
      "2013-09-15 06:00:00\n",
      "2013-09-15 12:00:00\n",
      "2013-09-15 18:00:00\n",
      "2013-09-16 00:00:00\n",
      "2013-09-16 06:00:00\n",
      "2013-09-16 12:00:00\n",
      "2013-09-16 18:00:00\n",
      "2013-09-17 00:00:00\n",
      "2013-09-17 06:00:00\n",
      "2013-09-17 12:00:00\n",
      "2013-09-17 18:00:00\n",
      "2013-09-18 00:00:00\n",
      "2013-09-18 06:00:00\n",
      "2013-09-18 12:00:00\n",
      "2013-09-18 18:00:00\n",
      "2013-09-19 00:00:00\n",
      "2013-09-19 06:00:00\n",
      "2013-09-19 12:00:00\n",
      "2013-09-19 18:00:00\n",
      "2013-09-20 00:00:00\n"
     ]
    }
   ],
   "source": [
    "path='/mnt/poseidon/INGRID/ERAI/'\n",
    "\n",
    "pe=[]\n",
    "ue=[]\n",
    "ve=[]\n",
    "\n",
    "for date in perdelta(sdate, edate+datetime.timedelta(hours=6), datetime.timedelta(hours=6)):\n",
    "    \n",
    "    name=(date-sdate).total_seconds()/3600.\n",
    "    filename=path+'ERAI_SFC_INGRID_20130910_0000_{:03d}.grib'.format(int(name))\n",
    "    \n",
    "    erai=pygrib.open(filename)\n",
    "    \n",
    "    p3,u3,v3,y3,x3 = erai_parser(filename,minlon,maxlon,minlat,maxlat)\n",
    "    \n",
    "    pe.append(p3)\n",
    "    ue.append(u3)\n",
    "    ve.append(v3)\n",
    "\n",
    "    print date"
   ]
  },
  {
   "cell_type": "code",
   "execution_count": 26,
   "metadata": {
    "collapsed": true,
    "deletable": true,
    "editable": true
   },
   "outputs": [],
   "source": [
    "pe = np.array(pe)\n",
    "ue = np.array(ue)\n",
    "ve = np.array(ve)"
   ]
  },
  {
   "cell_type": "code",
   "execution_count": 27,
   "metadata": {
    "collapsed": false,
    "deletable": true,
    "editable": true
   },
   "outputs": [
    {
     "data": {
      "text/plain": [
       "(41, 34, 34)"
      ]
     },
     "execution_count": 27,
     "metadata": {},
     "output_type": "execute_result"
    }
   ],
   "source": [
    "pe.shape"
   ]
  },
  {
   "cell_type": "markdown",
   "metadata": {
    "deletable": true,
    "editable": true
   },
   "source": [
    "### retrieve all of HWRF"
   ]
  },
  {
   "cell_type": "code",
   "execution_count": 28,
   "metadata": {
    "collapsed": false,
    "deletable": true,
    "editable": true
   },
   "outputs": [],
   "source": [
    "hdate0=datetime.datetime(2013,9,12,6)"
   ]
  },
  {
   "cell_type": "code",
   "execution_count": 29,
   "metadata": {
    "collapsed": true,
    "deletable": true,
    "editable": true
   },
   "outputs": [],
   "source": [
    "hdate1=datetime.datetime(2013,9,17,12)"
   ]
  },
  {
   "cell_type": "code",
   "execution_count": 30,
   "metadata": {
    "collapsed": false,
    "deletable": true,
    "editable": true
   },
   "outputs": [],
   "source": [
    "th=[]\n",
    "for date in perdelta(hdate0, hdate1, datetime.timedelta(hours=3)):\n",
    "    th.append(date)"
   ]
  },
  {
   "cell_type": "code",
   "execution_count": 31,
   "metadata": {
    "collapsed": false,
    "deletable": true,
    "editable": true
   },
   "outputs": [
    {
     "data": {
      "text/plain": [
       "42"
      ]
     },
     "execution_count": 31,
     "metadata": {},
     "output_type": "execute_result"
    }
   ],
   "source": [
    "len(th)"
   ]
  },
  {
   "cell_type": "code",
   "execution_count": 32,
   "metadata": {
    "collapsed": false,
    "deletable": true,
    "editable": true,
    "scrolled": true
   },
   "outputs": [
    {
     "name": "stdout",
     "output_type": "stream",
     "text": [
      "2013-09-12 06:00:00\n",
      "    /mnt/poseidon/INGRID/HWRF/TC/20130912.06/invest10l.2013091206.hwrfprs.storm.0p02.f000.grb2\n",
      "    /mnt/poseidon/INGRID/HWRF/TC/20130912.06/invest10l.2013091206.hwrfprs.storm.0p02.f003.grb2\n",
      "2013-09-12 12:00:00\n",
      "    /mnt/poseidon/INGRID/HWRF/TC/20130912.12/invest10l.2013091212.hwrfprs.storm.0p02.f000.grb2\n",
      "    /mnt/poseidon/INGRID/HWRF/TC/20130912.12/invest10l.2013091212.hwrfprs.storm.0p02.f003.grb2\n",
      "2013-09-12 18:00:00\n",
      "    /mnt/poseidon/INGRID/HWRF/TC/20130912.18/ten10l.2013091218.hwrfprs.storm.0p02.f000.grb2\n",
      "    /mnt/poseidon/INGRID/HWRF/TC/20130912.18/ten10l.2013091218.hwrfprs.storm.0p02.f003.grb2\n",
      "2013-09-13 00:00:00\n",
      "    /mnt/poseidon/INGRID/HWRF/TC/20130913.00/ten10l.2013091300.hwrfprs.storm.0p02.f000.grb2\n",
      "    /mnt/poseidon/INGRID/HWRF/TC/20130913.00/ten10l.2013091300.hwrfprs.storm.0p02.f003.grb2\n",
      "2013-09-13 06:00:00\n",
      "    /mnt/poseidon/INGRID/HWRF/TC/20130913.06/ten10l.2013091306.hwrfprs.storm.0p02.f000.grb2\n",
      "    /mnt/poseidon/INGRID/HWRF/TC/20130913.06/ten10l.2013091306.hwrfprs.storm.0p02.f003.grb2\n",
      "2013-09-13 12:00:00\n",
      "    /mnt/poseidon/INGRID/HWRF/TC/20130913.12/ingrid10l.2013091312.hwrfprs.storm.0p02.f000.grb2\n",
      "    /mnt/poseidon/INGRID/HWRF/TC/20130913.12/ingrid10l.2013091312.hwrfprs.storm.0p02.f003.grb2\n",
      "2013-09-13 18:00:00\n",
      "    /mnt/poseidon/INGRID/HWRF/TC/20130913.18/ingrid10l.2013091318.hwrfprs.storm.0p02.f000.grb2\n",
      "    /mnt/poseidon/INGRID/HWRF/TC/20130913.18/ingrid10l.2013091318.hwrfprs.storm.0p02.f003.grb2\n",
      "2013-09-14 00:00:00\n",
      "    /mnt/poseidon/INGRID/HWRF/TC/20130914.00/ingrid10l.2013091400.hwrfprs.storm.0p02.f000.grb2\n",
      "    /mnt/poseidon/INGRID/HWRF/TC/20130914.00/ingrid10l.2013091400.hwrfprs.storm.0p02.f003.grb2\n",
      "2013-09-14 06:00:00\n",
      "    /mnt/poseidon/INGRID/HWRF/TC/20130914.06/ingrid10l.2013091406.hwrfprs.storm.0p02.f000.grb2\n",
      "    /mnt/poseidon/INGRID/HWRF/TC/20130914.06/ingrid10l.2013091406.hwrfprs.storm.0p02.f003.grb2\n",
      "2013-09-14 12:00:00\n",
      "    /mnt/poseidon/INGRID/HWRF/TC/20130914.12/ingrid10l.2013091412.hwrfprs.storm.0p02.f000.grb2\n",
      "    /mnt/poseidon/INGRID/HWRF/TC/20130914.12/ingrid10l.2013091412.hwrfprs.storm.0p02.f003.grb2\n",
      "2013-09-14 18:00:00\n",
      "    /mnt/poseidon/INGRID/HWRF/TC/20130914.18/ingrid10l.2013091418.hwrfprs.storm.0p02.f000.grb2\n",
      "    /mnt/poseidon/INGRID/HWRF/TC/20130914.18/ingrid10l.2013091418.hwrfprs.storm.0p02.f003.grb2\n",
      "2013-09-15 00:00:00\n",
      "    /mnt/poseidon/INGRID/HWRF/TC/20130915.00/ingrid10l.2013091500.hwrfprs.storm.0p02.f000.grb2\n",
      "    /mnt/poseidon/INGRID/HWRF/TC/20130915.00/ingrid10l.2013091500.hwrfprs.storm.0p02.f003.grb2\n",
      "2013-09-15 06:00:00\n",
      "    /mnt/poseidon/INGRID/HWRF/TC/20130915.06/ingrid10l.2013091506.hwrfprs.storm.0p02.f000.grb2\n",
      "    /mnt/poseidon/INGRID/HWRF/TC/20130915.06/ingrid10l.2013091506.hwrfprs.storm.0p02.f003.grb2\n",
      "2013-09-15 12:00:00\n",
      "    /mnt/poseidon/INGRID/HWRF/TC/20130915.12/ingrid10l.2013091512.hwrfprs.storm.0p02.f000.grb2\n",
      "    /mnt/poseidon/INGRID/HWRF/TC/20130915.12/ingrid10l.2013091512.hwrfprs.storm.0p02.f003.grb2\n",
      "2013-09-15 18:00:00\n",
      "    /mnt/poseidon/INGRID/HWRF/TC/20130915.18/ingrid10l.2013091518.hwrfprs.storm.0p02.f000.grb2\n",
      "    /mnt/poseidon/INGRID/HWRF/TC/20130915.18/ingrid10l.2013091518.hwrfprs.storm.0p02.f003.grb2\n",
      "2013-09-16 00:00:00\n",
      "    /mnt/poseidon/INGRID/HWRF/TC/20130916.00/ingrid10l.2013091600.hwrfprs.storm.0p02.f000.grb2\n",
      "    /mnt/poseidon/INGRID/HWRF/TC/20130916.00/ingrid10l.2013091600.hwrfprs.storm.0p02.f003.grb2\n",
      "2013-09-16 06:00:00\n",
      "    /mnt/poseidon/INGRID/HWRF/TC/20130916.06/ingrid10l.2013091606.hwrfprs.storm.0p02.f000.grb2\n",
      "    /mnt/poseidon/INGRID/HWRF/TC/20130916.06/ingrid10l.2013091606.hwrfprs.storm.0p02.f003.grb2\n",
      "2013-09-16 12:00:00\n",
      "    /mnt/poseidon/INGRID/HWRF/TC/20130916.12/ingrid10l.2013091612.hwrfprs.storm.0p02.f000.grb2\n",
      "    /mnt/poseidon/INGRID/HWRF/TC/20130916.12/ingrid10l.2013091612.hwrfprs.storm.0p02.f003.grb2\n",
      "2013-09-16 18:00:00\n",
      "    /mnt/poseidon/INGRID/HWRF/TC/20130916.18/ingrid10l.2013091618.hwrfprs.storm.0p02.f000.grb2\n",
      "    /mnt/poseidon/INGRID/HWRF/TC/20130916.18/ingrid10l.2013091618.hwrfprs.storm.0p02.f003.grb2\n",
      "2013-09-17 00:00:00\n",
      "    /mnt/poseidon/INGRID/HWRF/TC/20130917.00/ingrid10l.2013091700.hwrfprs.storm.0p02.f000.grb2\n",
      "    /mnt/poseidon/INGRID/HWRF/TC/20130917.00/ingrid10l.2013091700.hwrfprs.storm.0p02.f003.grb2\n",
      "2013-09-17 06:00:00\n",
      "    /mnt/poseidon/INGRID/HWRF/TC/20130917.06/ingrid10l.2013091706.hwrfprs.storm.0p02.f000.grb2\n",
      "    /mnt/poseidon/INGRID/HWRF/TC/20130917.06/ingrid10l.2013091706.hwrfprs.storm.0p02.f003.grb2\n"
     ]
    }
   ],
   "source": [
    "path='/mnt/poseidon/INGRID/HWRF/TC/'\n",
    "\n",
    "ph=[]\n",
    "uh=[]\n",
    "vh=[]\n",
    "for date in perdelta(hdate0, hdate1, datetime.timedelta(hours=6)):\n",
    "    print date\n",
    "    folder=datetime.datetime.strftime(date,'%Y%m%d.%H')\n",
    "    fnames=glob.glob(path+folder+'/*')\n",
    "    fnames.sort()\n",
    "    for f in fnames[:-2]:\n",
    "        print '   ',f\n",
    "        hwrf=pygrib.open(f)\n",
    "    \n",
    "        p4,y4,x4 = hwrf[1].data()\n",
    "        u4=hwrf[706].data()[0]\n",
    "        v4=hwrf[707].data()[0]\n",
    "    \n",
    "        # flip to make lats increasing\n",
    "        y4 = np.flipud(y4)\n",
    "        p4 = np.flipud(p4)*.01 #multiply to get hPa\n",
    "        u4 = np.flipud(u4)\n",
    "        v4 = np.flipud(v4)\n",
    "\n",
    "    \n",
    "        ph.append(p4)\n",
    "        uh.append(u4)\n",
    "        vh.append(v4)\n",
    "\n",
    "        x4 = x4 -360. # shift to the plot window\n"
   ]
  },
  {
   "cell_type": "code",
   "execution_count": 33,
   "metadata": {
    "collapsed": true,
    "deletable": true,
    "editable": true
   },
   "outputs": [],
   "source": [
    "ph = np.array(ph)\n",
    "uh = np.array(uh)\n",
    "vh = np.array(vh)"
   ]
  },
  {
   "cell_type": "code",
   "execution_count": 34,
   "metadata": {
    "collapsed": false,
    "deletable": true,
    "editable": true
   },
   "outputs": [
    {
     "data": {
      "text/plain": [
       "(42, 1251, 1251)"
      ]
     },
     "execution_count": 34,
     "metadata": {},
     "output_type": "execute_result"
    }
   ],
   "source": [
    "ph.shape"
   ]
  },
  {
   "cell_type": "code",
   "execution_count": 35,
   "metadata": {
    "collapsed": false,
    "deletable": true,
    "editable": true
   },
   "outputs": [],
   "source": [
    "pmin=min(p1.min(),ptt.min(),pe.min(),ph.min())\n",
    "pmax=max(p1.max(),ptt.max(),pe.max(),ph.max())\n",
    "v = np.linspace(pmin, pmax, 15, endpoint=True)"
   ]
  },
  {
   "cell_type": "code",
   "execution_count": 36,
   "metadata": {
    "collapsed": false,
    "deletable": true,
    "editable": true
   },
   "outputs": [],
   "source": [
    "indate=hdate0"
   ]
  },
  {
   "cell_type": "code",
   "execution_count": 37,
   "metadata": {
    "collapsed": false,
    "deletable": true,
    "editable": true
   },
   "outputs": [],
   "source": [
    "def a3(i):\n",
    "\n",
    "    i1=i\n",
    "    i2=i\n",
    "    i3=i/6\n",
    "    i4=i/3\n",
    "    date = indate+datetime.timedelta(hours=i)    \n",
    "    fig=plt.figure(figsize=(16,12))\n",
    "\n",
    "    fig.suptitle('COMPARISON at \\n{}'.format(datetime.datetime.strftime(date,'%Y%m%d.%H')), fontsize=16)\n",
    "\n",
    "    plt.subplot(223)\n",
    "\n",
    "    thin=5\n",
    "    Pf1=m.contourf(x,y,p1[i1,:,:],v,cmap=plt.cm.RdYlBu)\n",
    "\n",
    "    P=m.contour(x,y,p1[i1,:,:],V=2,colors='k',linewidths=1.5)\n",
    "    plt.clabel(P,inline=1,fontsize=8,fmt='%1.0f',inline_spacing=1)\n",
    "\n",
    "    m.barbs(x[::thin,::thin],y[::thin,::thin],u_wind_ms[i1,::thin,::thin],\\\n",
    "                v_wind_ms[i1,::thin,::thin], length=5,\\\n",
    "                sizes={'spacing':0.2},pivot='middle')\n",
    "\n",
    "    # draw coastlines, parallels, meridians.\n",
    "    m.drawcoastlines(linewidth=1.5,color='r')\n",
    "    m.drawparallels(parallels,labels=[False,True,True,False])\n",
    "    m.drawmeridians(meridians,labels=[True,False,False,True])\n",
    "\n",
    "    ax1=fig.get_children()[1]\n",
    "    ax1.title.set_text('WRF')\n",
    "\n",
    "    plt.subplot(222)\n",
    "\n",
    "    # Contour the pressure\n",
    "    Pf2=m.contourf(x2,y2,ptt[i2,:,:],v,cmap=plt.cm.RdYlBu)\n",
    "\n",
    "    P=m.contour(x2,y2,ptt[i2,:,:],V=2,colors='k',linewidths=1.5)\n",
    "    plt.clabel(P,inline=1,fontsize=8,fmt='%1.0f',inline_spacing=1)\n",
    "\n",
    "    m.barbs(x2[::thin,::thin],y2[::thin,::thin],utt[i2,::thin,::thin],\\\n",
    "                vtt[i2,::thin,::thin], length=5,\\\n",
    "                sizes={'spacing':0.2},pivot='middle')\n",
    "\n",
    "    # draw coastlines, parallels, meridians.\n",
    "    m.drawcoastlines(linewidth=1.5,color='r')\n",
    "    m.drawparallels(parallels,labels=[False,True,True,False])\n",
    "    m.drawmeridians(meridians,labels=[True,False,False,True])\n",
    "\n",
    "    ax2=fig.get_children()[2]\n",
    "    ax2.title.set_text('OPER')\n",
    "\n",
    "    plt.subplot(221)\n",
    "\n",
    "    thin=1\n",
    "    # Contour the pressure\n",
    "    Pf3=m.contourf(x3,y3,pe[i3,:,:],v,cmap=plt.cm.RdYlBu)\n",
    "\n",
    "    P=m.contour(x3,y3,pe[i3,:,:],V=2,colors='k',linewidths=1.5)\n",
    "    plt.clabel(P,inline=1,fontsize=8,fmt='%1.0f',inline_spacing=1)\n",
    "\n",
    "    m.barbs(x3[::thin,::thin],y3[::thin,::thin],ue[i3,::thin,::thin],\\\n",
    "                ve[i3,::thin,::thin], length=5,\\\n",
    "                sizes={'spacing':0.2},pivot='middle')\n",
    "\n",
    "    # draw coastlines, parallels, meridians.\n",
    "    m.drawcoastlines(linewidth=1.5,color='r')\n",
    "    m.drawparallels(parallels,labels=[False,True,True,False])\n",
    "    m.drawmeridians(meridians,labels=[True,False,False,True])\n",
    "\n",
    "    ax3=fig.get_children()[3]\n",
    "    ax3.title.set_text('ERAI')\n",
    "    \n",
    "    plt.subplot(224)\n",
    "    \n",
    "    thin = 25\n",
    "\n",
    "    P4f=m.contourf(x4,y4,ph[i4,:,:],v,cmap=plt.cm.RdYlBu)\n",
    "\n",
    "    P=m.contour(x4,y4,ph[i4,:,:],V=2,colors='k',linewidths=1.5)\n",
    "    plt.clabel(P,inline=1,fontsize=8,fmt='%1.0f',inline_spacing=1)\n",
    "\n",
    "    m.barbs(x4[::thin,::thin],y4[::thin,::thin],uh[i4,::thin,::thin],\\\n",
    "                vh[i4,::thin,::thin], length=5,\\\n",
    "                sizes={'spacing':0.2},pivot='middle')\n",
    "\n",
    "    # draw coastlines, parallels, meridians.\n",
    "    m.drawcoastlines(linewidth=1.5,color='r')\n",
    "    m.drawparallels(parallels,labels=[False,True,True,False])\n",
    "    m.drawmeridians(meridians,labels=[True,False,False,True])\n",
    "\n",
    "    ax4=fig.get_children()[4]\n",
    "    ax4.title.set_text('HWRF')\n",
    "    \n",
    "    cbar_ax=fig.add_axes([0.45, 0.2, 0.05, 0.7])\n",
    "    fig.colorbar(Pf3,cax=cbar_ax,orientation='vertical',ticks=v)"
   ]
  },
  {
   "cell_type": "code",
   "execution_count": 38,
   "metadata": {
    "collapsed": false,
    "deletable": true,
    "editable": true
   },
   "outputs": [],
   "source": [
    "#interact(a3,i=widgets.IntSlider(min=0,max=ptt.shape[0]-1,step=6,value=0))"
   ]
  },
  {
   "cell_type": "markdown",
   "metadata": {
    "deletable": true,
    "editable": true
   },
   "source": [
    "## Visualize difference"
   ]
  },
  {
   "cell_type": "code",
   "execution_count": 39,
   "metadata": {
    "collapsed": false,
    "deletable": true,
    "editable": true
   },
   "outputs": [
    {
     "data": {
      "text/plain": [
       "((149, 149), (166, 165))"
      ]
     },
     "execution_count": 39,
     "metadata": {},
     "output_type": "execute_result"
    }
   ],
   "source": [
    "x.shape,x2.shape"
   ]
  },
  {
   "cell_type": "code",
   "execution_count": 40,
   "metadata": {
    "collapsed": true,
    "deletable": true,
    "editable": true
   },
   "outputs": [],
   "source": [
    "# resample ecmwf on wrf grid \n",
    "import pyresample"
   ]
  },
  {
   "cell_type": "code",
   "execution_count": 41,
   "metadata": {
    "collapsed": false,
    "deletable": true,
    "editable": true
   },
   "outputs": [],
   "source": [
    "wrfgeo=pyresample.geometry.SwathDefinition(lons=x,lats=y) # the wrf grid geometry\n",
    "opgeo=pyresample.geometry.SwathDefinition(lons=x2,lats=y2) # the oper grid geometry\n",
    "\n",
    "oper2wrf=[]\n",
    "for i in range(ptt.shape[0]):\n",
    "    oper2wrf.append(pyresample.kd_tree.resample_nearest(opgeo,ptt[i,:,:],wrfgeo,radius_of_influence=500000,fill_value=-999))\n",
    "\n"
   ]
  },
  {
   "cell_type": "code",
   "execution_count": 42,
   "metadata": {
    "collapsed": true,
    "deletable": true,
    "editable": true
   },
   "outputs": [],
   "source": [
    "oper2wrf=np.array(oper2wrf)"
   ]
  },
  {
   "cell_type": "code",
   "execution_count": null,
   "metadata": {
    "collapsed": true,
    "deletable": true,
    "editable": true
   },
   "outputs": [],
   "source": []
  },
  {
   "cell_type": "code",
   "execution_count": 43,
   "metadata": {
    "collapsed": false,
    "deletable": true,
    "editable": true
   },
   "outputs": [
    {
     "data": {
      "text/plain": [
       "((240, 149, 149), (241, 149, 149))"
      ]
     },
     "execution_count": 43,
     "metadata": {},
     "output_type": "execute_result"
    }
   ],
   "source": [
    "oper2wrf.shape, p1.shape\n"
   ]
  },
  {
   "cell_type": "code",
   "execution_count": 44,
   "metadata": {
    "collapsed": false,
    "deletable": true,
    "editable": true
   },
   "outputs": [
    {
     "data": {
      "text/plain": [
       "(240, 149, 149)"
      ]
     },
     "execution_count": 44,
     "metadata": {},
     "output_type": "execute_result"
    }
   ],
   "source": [
    "diff = oper2wrf - p1[-1,:,:]\n",
    "diff.shape"
   ]
  },
  {
   "cell_type": "code",
   "execution_count": 45,
   "metadata": {
    "collapsed": false,
    "deletable": true,
    "editable": true
   },
   "outputs": [],
   "source": [
    "def dc(i):\n",
    "    plt.contourf(x,y,diff[i,:,:])\n",
    "    plt.colorbar()"
   ]
  },
  {
   "cell_type": "code",
   "execution_count": 46,
   "metadata": {
    "collapsed": false,
    "deletable": true,
    "editable": true
   },
   "outputs": [
    {
     "data": {
      "text/plain": [
       "(10.962377929687477, -19.989362792968677)"
      ]
     },
     "execution_count": 46,
     "metadata": {},
     "output_type": "execute_result"
    }
   ],
   "source": [
    "diff.max(), diff.min()"
   ]
  },
  {
   "cell_type": "code",
   "execution_count": 47,
   "metadata": {
    "collapsed": false,
    "deletable": true,
    "editable": true
   },
   "outputs": [
    {
     "data": {
      "text/plain": [
       "<function __main__.dc>"
      ]
     },
     "execution_count": 47,
     "metadata": {},
     "output_type": "execute_result"
    }
   ],
   "source": [
    "interact(dc,i=widgets.IntSlider(min=0,max=ptt.shape[0]-1,step=1,value=0))"
   ]
  },
  {
   "cell_type": "code",
   "execution_count": null,
   "metadata": {
    "collapsed": true,
    "deletable": true,
    "editable": true
   },
   "outputs": [],
   "source": []
  },
  {
   "cell_type": "code",
   "execution_count": 48,
   "metadata": {
    "collapsed": false,
    "deletable": true,
    "editable": true
   },
   "outputs": [],
   "source": [
    "def a3_(i):\n",
    "\n",
    "    i1=i\n",
    "    i2=i\n",
    "    i3=i/6\n",
    "    i4=i/3\n",
    "    date = sdate+datetime.timedelta(hours=i)    \n",
    "    fig=plt.figure(figsize=(12,8))\n",
    "\n",
    "    fig.suptitle('COMPARISON at {}'.format(datetime.datetime.strftime(date,'%Y%m%d.%H')), fontsize=16)\n",
    "\n",
    "    plt.subplot(221)\n",
    "\n",
    "    thin=5\n",
    "    Pf1=m.contourf(x,y,p1[i1,:,:],15,cmap=plt.cm.RdYlBu)\n",
    "\n",
    "    P=m.contour(x,y,p1[i1,:,:],V=2,colors='k',linewidths=1.5)\n",
    "    plt.clabel(P,inline=1,fontsize=8,fmt='%1.0f',inline_spacing=1)\n",
    "\n",
    "    m.barbs(x[::thin,::thin],y[::thin,::thin],u_wind_ms[i1,::thin,::thin],\\\n",
    "                v_wind_ms[i1,::thin,::thin], length=5,\\\n",
    "                sizes={'spacing':0.2},pivot='middle')\n",
    "\n",
    "    # draw coastlines, parallels, meridians.\n",
    "    m.drawcoastlines(linewidth=1.5,color='r')\n",
    "    m.drawparallels(parallels,labels=[False,True,True,False])\n",
    "    m.drawmeridians(meridians,labels=[True,False,False,True])\n",
    "\n",
    "    plt.colorbar(Pf1,orientation='horizontal', format='%.1f')\n",
    "    \n",
    "    plt.subplot(222)\n",
    "\n",
    "    # Contour the pressure\n",
    "    Pf2=m.contourf(x2,y2,ptt[i2,:,:],15,cmap=plt.cm.RdYlBu)\n",
    "\n",
    "    P=m.contour(x2,y2,ptt[i2,:,:],V=2,colors='k',linewidths=1.5)\n",
    "    plt.clabel(P,inline=1,fontsize=8,fmt='%1.0f',inline_spacing=1)\n",
    "\n",
    "    m.barbs(x2[::thin,::thin],y2[::thin,::thin],utt[i2,::thin,::thin],\\\n",
    "                vtt[i2,::thin,::thin], length=5,\\\n",
    "                sizes={'spacing':0.2},pivot='middle')\n",
    "\n",
    "    # draw coastlines, parallels, meridians.\n",
    "    m.drawcoastlines(linewidth=1.5,color='r')\n",
    "    m.drawparallels(parallels,labels=[False,True,True,False])\n",
    "    m.drawmeridians(meridians,labels=[True,False,False,True])\n",
    "\n",
    "    plt.colorbar(Pf2,orientation='horizontal', format='%.1f')\n",
    "\n",
    "    \n",
    "    plt.subplot(223)\n",
    "\n",
    "    thin=1\n",
    "    # Contour the pressure\n",
    "    Pf3=m.contourf(x3,y3,pe[i3,:,:],15,cmap=plt.cm.RdYlBu)\n",
    "\n",
    "    P=m.contour(x3,y3,pe[i3,:,:],V=2,colors='k',linewidths=1.5)\n",
    "    plt.clabel(P,inline=1,fontsize=8,fmt='%1.0f',inline_spacing=1)\n",
    "\n",
    "    m.barbs(x3[::thin,::thin],y3[::thin,::thin],ue[i3,::thin,::thin],\\\n",
    "                ve[i3,::thin,::thin], length=5,\\\n",
    "                sizes={'spacing':0.2},pivot='middle')\n",
    "\n",
    "    # draw coastlines, parallels, meridians.\n",
    "    m.drawcoastlines(linewidth=1.5,color='r')\n",
    "    m.drawparallels(parallels,labels=[False,True,True,False])\n",
    "    m.drawmeridians(meridians,labels=[True,False,False,True])\n",
    "    \n",
    "    plt.colorbar(Pf3,orientation='horizontal', format='%.1f')\n",
    "\n",
    "    \n",
    "    plt.subplot(224)\n",
    "    \n",
    "    thin = 50\n",
    "\n",
    "    Pf4=m.contourf(x4,y4,ph[i4,:,:],15,cmap=plt.cm.RdYlBu)\n",
    "\n",
    "    P=m.contour(x4,y4,ph[i4,:,:],V=2,colors='k',linewidths=1.5)\n",
    "    plt.clabel(P,inline=1,fontsize=8,fmt='%1.0f',inline_spacing=1)\n",
    "\n",
    "    m.barbs(x4[::thin,::thin],y4[::thin,::thin],uh[i4,::thin,::thin],\\\n",
    "                vh[i4,::thin,::thin], length=5,\\\n",
    "                sizes={'spacing':0.2},pivot='middle')\n",
    "\n",
    "    # draw coastlines, parallels, meridians.\n",
    "    m.drawcoastlines(linewidth=1.5,color='r')\n",
    "    m.drawparallels(parallels,labels=[False,True,True,False])\n",
    "    m.drawmeridians(meridians,labels=[True,False,False,True])\n",
    "\n",
    "    plt.colorbar(Pf4,orientation='horizontal', format='%.1f')\n",
    "\n",
    "\n",
    "    ax1=fig.get_children()[1]\n",
    "    ax1.title.set_text('WRF')\n",
    "    ax2=fig.get_children()[3]\n",
    "    ax2.title.set_text('OPER')\n",
    "    ax3=fig.get_children()[5]\n",
    "    ax3.title.set_text('ERAI')\n",
    "    ax4=fig.get_children()[4]\n",
    "    ax4.title.set_text('HWRF')\n",
    " \n",
    "\n",
    "  #  cbar_ax=fig.add_axes([0.15, 0.8, 0.7, 0.05])\n",
    "  #  fig.colorbar(Pf3,cax=cbar_ax,orientation='horizontal',ticks=v)"
   ]
  },
  {
   "cell_type": "code",
   "execution_count": 49,
   "metadata": {
    "collapsed": false,
    "deletable": true,
    "editable": true
   },
   "outputs": [],
   "source": [
    "#interact(a3_,i=widgets.IntSlider(min=0,max=ptt.shape[0]-1,step=6,value=0))"
   ]
  },
  {
   "cell_type": "code",
   "execution_count": 50,
   "metadata": {
    "collapsed": false
   },
   "outputs": [
    {
     "data": {
      "text/plain": [
       "(241, 149, 149)"
      ]
     },
     "execution_count": 50,
     "metadata": {},
     "output_type": "execute_result"
    }
   ],
   "source": [
    "p1.shape"
   ]
  },
  {
   "cell_type": "markdown",
   "metadata": {
    "deletable": true,
    "editable": true
   },
   "source": [
    "## minimum pressure track"
   ]
  },
  {
   "cell_type": "code",
   "execution_count": 51,
   "metadata": {
    "collapsed": false
   },
   "outputs": [
    {
     "data": {
      "text/plain": [
       "<matplotlib.colorbar.Colorbar at 0x7ff7940c0cd0>"
      ]
     },
     "execution_count": 51,
     "metadata": {},
     "output_type": "execute_result"
    }
   ],
   "source": [
    "plt.contourf(wrf.variables['XLONG'][0][:,40:],wrf.variables['XLAT'][0][:,40:],p1[132][:,40:])\n",
    "plt.colorbar()"
   ]
  },
  {
   "cell_type": "code",
   "execution_count": 74,
   "metadata": {
    "collapsed": false,
    "deletable": true,
    "editable": true
   },
   "outputs": [],
   "source": [
    "wrfc=np.amin(p1[:,:,:],axis=(1,2))\n",
    "operc=np.amin(ptt,axis=(1,2))\n",
    "eraic=np.amin(pe,axis=(1,2))\n",
    "hwrfc=np.amin(ph,axis=(1,2))"
   ]
  },
  {
   "cell_type": "code",
   "execution_count": 75,
   "metadata": {
    "collapsed": false,
    "deletable": true,
    "editable": true
   },
   "outputs": [
    {
     "data": {
      "text/plain": [
       "(241,)"
      ]
     },
     "execution_count": 75,
     "metadata": {},
     "output_type": "execute_result"
    }
   ],
   "source": [
    "t=[]\n",
    "for date in perdelta(sdate, edate+datetime.timedelta(hours=1), datetime.timedelta(hours=1)):\n",
    "    t.append(date)\n",
    "np.shape(t)"
   ]
  },
  {
   "cell_type": "code",
   "execution_count": 76,
   "metadata": {
    "collapsed": false,
    "deletable": true,
    "editable": true
   },
   "outputs": [
    {
     "data": {
      "text/plain": [
       "((241,), (240,), (41,), (42,))"
      ]
     },
     "execution_count": 76,
     "metadata": {},
     "output_type": "execute_result"
    }
   ],
   "source": [
    "wrfc.shape,operc.shape,eraic.shape,hwrfc.shape"
   ]
  },
  {
   "cell_type": "code",
   "execution_count": 77,
   "metadata": {
    "collapsed": false
   },
   "outputs": [
    {
     "data": {
      "text/plain": [
       "[datetime.datetime(2013, 9, 10, 0, 0),\n",
       " datetime.datetime(2013, 9, 10, 6, 0),\n",
       " datetime.datetime(2013, 9, 10, 12, 0),\n",
       " datetime.datetime(2013, 9, 10, 18, 0),\n",
       " datetime.datetime(2013, 9, 11, 0, 0),\n",
       " datetime.datetime(2013, 9, 11, 6, 0),\n",
       " datetime.datetime(2013, 9, 11, 12, 0),\n",
       " datetime.datetime(2013, 9, 11, 18, 0),\n",
       " datetime.datetime(2013, 9, 12, 0, 0),\n",
       " datetime.datetime(2013, 9, 12, 6, 0),\n",
       " datetime.datetime(2013, 9, 12, 12, 0),\n",
       " datetime.datetime(2013, 9, 12, 18, 0),\n",
       " datetime.datetime(2013, 9, 13, 0, 0),\n",
       " datetime.datetime(2013, 9, 13, 6, 0),\n",
       " datetime.datetime(2013, 9, 13, 12, 0),\n",
       " datetime.datetime(2013, 9, 13, 18, 0),\n",
       " datetime.datetime(2013, 9, 14, 0, 0),\n",
       " datetime.datetime(2013, 9, 14, 6, 0),\n",
       " datetime.datetime(2013, 9, 14, 12, 0),\n",
       " datetime.datetime(2013, 9, 14, 18, 0),\n",
       " datetime.datetime(2013, 9, 15, 0, 0),\n",
       " datetime.datetime(2013, 9, 15, 6, 0),\n",
       " datetime.datetime(2013, 9, 15, 12, 0),\n",
       " datetime.datetime(2013, 9, 15, 18, 0),\n",
       " datetime.datetime(2013, 9, 16, 0, 0),\n",
       " datetime.datetime(2013, 9, 16, 6, 0),\n",
       " datetime.datetime(2013, 9, 16, 12, 0),\n",
       " datetime.datetime(2013, 9, 16, 18, 0),\n",
       " datetime.datetime(2013, 9, 17, 0, 0),\n",
       " datetime.datetime(2013, 9, 17, 6, 0),\n",
       " datetime.datetime(2013, 9, 17, 12, 0),\n",
       " datetime.datetime(2013, 9, 17, 18, 0),\n",
       " datetime.datetime(2013, 9, 18, 0, 0),\n",
       " datetime.datetime(2013, 9, 18, 6, 0),\n",
       " datetime.datetime(2013, 9, 18, 12, 0),\n",
       " datetime.datetime(2013, 9, 18, 18, 0),\n",
       " datetime.datetime(2013, 9, 19, 0, 0),\n",
       " datetime.datetime(2013, 9, 19, 6, 0),\n",
       " datetime.datetime(2013, 9, 19, 12, 0),\n",
       " datetime.datetime(2013, 9, 19, 18, 0),\n",
       " datetime.datetime(2013, 9, 20, 0, 0)]"
      ]
     },
     "execution_count": 77,
     "metadata": {},
     "output_type": "execute_result"
    }
   ],
   "source": [
    "t[::6]"
   ]
  },
  {
   "cell_type": "code",
   "execution_count": 78,
   "metadata": {
    "collapsed": false,
    "deletable": true,
    "editable": true
   },
   "outputs": [],
   "source": [
    "cdic={'time':t,'wrf':wrfc,'oper':operc}\n",
    "edic={'time':t[::6], 'erai':eraic}\n",
    "hdic={'time':th, 'hwrf':hwrfc}\n",
    "df1=pd.DataFrame.from_dict(cdic, orient='index')\n",
    "\n",
    "df2=pd.DataFrame.from_dict(edic)\n",
    "df3=pd.DataFrame.from_dict(hdic)\n"
   ]
  },
  {
   "cell_type": "code",
   "execution_count": 79,
   "metadata": {
    "collapsed": false,
    "deletable": true,
    "editable": true
   },
   "outputs": [
    {
     "data": {
      "text/html": [
       "<div>\n",
       "<table border=\"1\" class=\"dataframe\">\n",
       "  <thead>\n",
       "    <tr style=\"text-align: right;\">\n",
       "      <th></th>\n",
       "      <th>wrf</th>\n",
       "      <th>oper</th>\n",
       "    </tr>\n",
       "    <tr>\n",
       "      <th>time</th>\n",
       "      <th></th>\n",
       "      <th></th>\n",
       "    </tr>\n",
       "  </thead>\n",
       "  <tbody>\n",
       "    <tr>\n",
       "      <th>2013-09-10 00:00:00</th>\n",
       "      <td>1005.89</td>\n",
       "      <td>1005.57</td>\n",
       "    </tr>\n",
       "    <tr>\n",
       "      <th>2013-09-10 01:00:00</th>\n",
       "      <td>1006.01</td>\n",
       "      <td>1006.54</td>\n",
       "    </tr>\n",
       "    <tr>\n",
       "      <th>2013-09-10 02:00:00</th>\n",
       "      <td>1006.96</td>\n",
       "      <td>1007.09</td>\n",
       "    </tr>\n",
       "    <tr>\n",
       "      <th>2013-09-10 03:00:00</th>\n",
       "      <td>1007.67</td>\n",
       "      <td>1007.94</td>\n",
       "    </tr>\n",
       "    <tr>\n",
       "      <th>2013-09-10 04:00:00</th>\n",
       "      <td>1008.17</td>\n",
       "      <td>1008.38</td>\n",
       "    </tr>\n",
       "  </tbody>\n",
       "</table>\n",
       "</div>"
      ],
      "text/plain": [
       "                         wrf     oper\n",
       "time                                 \n",
       "2013-09-10 00:00:00  1005.89  1005.57\n",
       "2013-09-10 01:00:00  1006.01  1006.54\n",
       "2013-09-10 02:00:00  1006.96  1007.09\n",
       "2013-09-10 03:00:00  1007.67  1007.94\n",
       "2013-09-10 04:00:00  1008.17  1008.38"
      ]
     },
     "execution_count": 79,
     "metadata": {},
     "output_type": "execute_result"
    }
   ],
   "source": [
    "df1 = df1.transpose()\n",
    "df1 = df1.set_index(['time'])\n",
    "df1.head()"
   ]
  },
  {
   "cell_type": "code",
   "execution_count": 80,
   "metadata": {
    "collapsed": false,
    "deletable": true,
    "editable": true
   },
   "outputs": [
    {
     "data": {
      "text/html": [
       "<div>\n",
       "<table border=\"1\" class=\"dataframe\">\n",
       "  <thead>\n",
       "    <tr style=\"text-align: right;\">\n",
       "      <th></th>\n",
       "      <th>erai</th>\n",
       "    </tr>\n",
       "    <tr>\n",
       "      <th>time</th>\n",
       "      <th></th>\n",
       "    </tr>\n",
       "  </thead>\n",
       "  <tbody>\n",
       "    <tr>\n",
       "      <th>2013-09-10 00:00:00</th>\n",
       "      <td>1006.134375</td>\n",
       "    </tr>\n",
       "    <tr>\n",
       "      <th>2013-09-10 06:00:00</th>\n",
       "      <td>1008.629375</td>\n",
       "    </tr>\n",
       "    <tr>\n",
       "      <th>2013-09-10 12:00:00</th>\n",
       "      <td>1008.339375</td>\n",
       "    </tr>\n",
       "    <tr>\n",
       "      <th>2013-09-10 18:00:00</th>\n",
       "      <td>1009.716250</td>\n",
       "    </tr>\n",
       "    <tr>\n",
       "      <th>2013-09-11 00:00:00</th>\n",
       "      <td>1006.713125</td>\n",
       "    </tr>\n",
       "  </tbody>\n",
       "</table>\n",
       "</div>"
      ],
      "text/plain": [
       "                            erai\n",
       "time                            \n",
       "2013-09-10 00:00:00  1006.134375\n",
       "2013-09-10 06:00:00  1008.629375\n",
       "2013-09-10 12:00:00  1008.339375\n",
       "2013-09-10 18:00:00  1009.716250\n",
       "2013-09-11 00:00:00  1006.713125"
      ]
     },
     "execution_count": 80,
     "metadata": {},
     "output_type": "execute_result"
    }
   ],
   "source": [
    "df2 = df2.set_index(['time'])\n",
    "\n",
    "df2.head()"
   ]
  },
  {
   "cell_type": "code",
   "execution_count": 81,
   "metadata": {
    "collapsed": false,
    "deletable": true,
    "editable": true
   },
   "outputs": [
    {
     "data": {
      "text/html": [
       "<div>\n",
       "<table border=\"1\" class=\"dataframe\">\n",
       "  <thead>\n",
       "    <tr style=\"text-align: right;\">\n",
       "      <th></th>\n",
       "      <th>hwrf</th>\n",
       "    </tr>\n",
       "    <tr>\n",
       "      <th>time</th>\n",
       "      <th></th>\n",
       "    </tr>\n",
       "  </thead>\n",
       "  <tbody>\n",
       "    <tr>\n",
       "      <th>2013-09-12 06:00:00</th>\n",
       "      <td>1005.777954</td>\n",
       "    </tr>\n",
       "    <tr>\n",
       "      <th>2013-09-12 09:00:00</th>\n",
       "      <td>1004.980164</td>\n",
       "    </tr>\n",
       "    <tr>\n",
       "      <th>2013-09-12 12:00:00</th>\n",
       "      <td>1003.565674</td>\n",
       "    </tr>\n",
       "    <tr>\n",
       "      <th>2013-09-12 15:00:00</th>\n",
       "      <td>1005.657166</td>\n",
       "    </tr>\n",
       "    <tr>\n",
       "      <th>2013-09-12 18:00:00</th>\n",
       "      <td>1002.708984</td>\n",
       "    </tr>\n",
       "  </tbody>\n",
       "</table>\n",
       "</div>"
      ],
      "text/plain": [
       "                            hwrf\n",
       "time                            \n",
       "2013-09-12 06:00:00  1005.777954\n",
       "2013-09-12 09:00:00  1004.980164\n",
       "2013-09-12 12:00:00  1003.565674\n",
       "2013-09-12 15:00:00  1005.657166\n",
       "2013-09-12 18:00:00  1002.708984"
      ]
     },
     "execution_count": 81,
     "metadata": {},
     "output_type": "execute_result"
    }
   ],
   "source": [
    "df3 = df3.set_index(['time'])\n",
    "\n",
    "df3.head()"
   ]
  },
  {
   "cell_type": "code",
   "execution_count": 82,
   "metadata": {
    "collapsed": false,
    "deletable": true,
    "editable": true
   },
   "outputs": [],
   "source": [
    "tot=pd.concat([df1,df2,df3],axis=1)"
   ]
  },
  {
   "cell_type": "code",
   "execution_count": 83,
   "metadata": {
    "collapsed": false,
    "deletable": true,
    "editable": true
   },
   "outputs": [
    {
     "data": {
      "text/html": [
       "<div>\n",
       "<table border=\"1\" class=\"dataframe\">\n",
       "  <thead>\n",
       "    <tr style=\"text-align: right;\">\n",
       "      <th></th>\n",
       "      <th>wrf</th>\n",
       "      <th>oper</th>\n",
       "      <th>erai</th>\n",
       "      <th>hwrf</th>\n",
       "    </tr>\n",
       "    <tr>\n",
       "      <th>time</th>\n",
       "      <th></th>\n",
       "      <th></th>\n",
       "      <th></th>\n",
       "      <th></th>\n",
       "    </tr>\n",
       "  </thead>\n",
       "  <tbody>\n",
       "    <tr>\n",
       "      <th>2013-09-10 00:00:00</th>\n",
       "      <td>1005.89</td>\n",
       "      <td>1005.57</td>\n",
       "      <td>1006.134375</td>\n",
       "      <td>NaN</td>\n",
       "    </tr>\n",
       "    <tr>\n",
       "      <th>2013-09-10 01:00:00</th>\n",
       "      <td>1006.01</td>\n",
       "      <td>1006.54</td>\n",
       "      <td>NaN</td>\n",
       "      <td>NaN</td>\n",
       "    </tr>\n",
       "    <tr>\n",
       "      <th>2013-09-10 02:00:00</th>\n",
       "      <td>1006.96</td>\n",
       "      <td>1007.09</td>\n",
       "      <td>NaN</td>\n",
       "      <td>NaN</td>\n",
       "    </tr>\n",
       "    <tr>\n",
       "      <th>2013-09-10 03:00:00</th>\n",
       "      <td>1007.67</td>\n",
       "      <td>1007.94</td>\n",
       "      <td>NaN</td>\n",
       "      <td>NaN</td>\n",
       "    </tr>\n",
       "    <tr>\n",
       "      <th>2013-09-10 04:00:00</th>\n",
       "      <td>1008.17</td>\n",
       "      <td>1008.38</td>\n",
       "      <td>NaN</td>\n",
       "      <td>NaN</td>\n",
       "    </tr>\n",
       "  </tbody>\n",
       "</table>\n",
       "</div>"
      ],
      "text/plain": [
       "                         wrf     oper         erai  hwrf\n",
       "time                                                    \n",
       "2013-09-10 00:00:00  1005.89  1005.57  1006.134375   NaN\n",
       "2013-09-10 01:00:00  1006.01  1006.54          NaN   NaN\n",
       "2013-09-10 02:00:00  1006.96  1007.09          NaN   NaN\n",
       "2013-09-10 03:00:00  1007.67  1007.94          NaN   NaN\n",
       "2013-09-10 04:00:00  1008.17  1008.38          NaN   NaN"
      ]
     },
     "execution_count": 83,
     "metadata": {},
     "output_type": "execute_result"
    }
   ],
   "source": [
    "tot.head()"
   ]
  },
  {
   "cell_type": "code",
   "execution_count": 85,
   "metadata": {
    "collapsed": false,
    "deletable": true,
    "editable": true,
    "scrolled": false
   },
   "outputs": [
    {
     "data": {
      "text/plain": [
       "<matplotlib.text.Text at 0x7ff740262b50>"
      ]
     },
     "execution_count": 85,
     "metadata": {},
     "output_type": "execute_result"
    },
    {
     "data": {
      "image/png": "[encoded data removed]",
      "text/plain": [
       "<matplotlib.figure.Figure at 0x7ff79ee916d0>"
      ]
     },
     "metadata": {},
     "output_type": "display_data"
    }
   ],
   "source": [
    "ax=tot[['wrf','oper']].dropna().plot(figsize=(10, 5))\n",
    "tot['erai'].dropna().plot(ax=ax, linestyle='', marker='o')\n",
    "tot['hwrf'].dropna().plot(ax=ax)\n",
    "ax.legend(loc=0)\n",
    "ax.set_title('Minimum Pressure')\n"
   ]
  },
  {
   "cell_type": "code",
   "execution_count": 86,
   "metadata": {
    "collapsed": true
   },
   "outputs": [],
   "source": [
    "ax.figure.savefig('p.png')"
   ]
  },
  {
   "cell_type": "markdown",
   "metadata": {
    "deletable": true,
    "editable": true
   },
   "source": [
    "## maximum wind track"
   ]
  },
  {
   "cell_type": "code",
   "execution_count": 63,
   "metadata": {
    "collapsed": false,
    "deletable": true,
    "editable": true
   },
   "outputs": [],
   "source": [
    "w1=np.sqrt(u_wind_ms[:]**2+v_wind_ms[:]**2)\n",
    "w2=np.sqrt(utt**2+vtt**2)\n",
    "w3=np.sqrt(ue**2+ve**2)\n",
    "w4=np.sqrt(uh**2+vh**2)"
   ]
  },
  {
   "cell_type": "code",
   "execution_count": 64,
   "metadata": {
    "collapsed": false,
    "deletable": true,
    "editable": true
   },
   "outputs": [
    {
     "data": {
      "text/plain": [
       "(38.990635, 31.531128608678735, 23.923493153621678, 39.121559)"
      ]
     },
     "execution_count": 64,
     "metadata": {},
     "output_type": "execute_result"
    }
   ],
   "source": [
    "w1.max(),w2.max(),w3.max(),w4.max()"
   ]
  },
  {
   "cell_type": "code",
   "execution_count": 69,
   "metadata": {
    "collapsed": false,
    "deletable": true,
    "editable": true
   },
   "outputs": [],
   "source": [
    "wrfc=np.amax(w1[:,:,:],axis=(1,2))\n",
    "operc=np.amax(w2,axis=(1,2))\n",
    "eraic=np.amax(w3,axis=(1,2))\n",
    "hwrfc=np.amax(w4,axis=(1,2))"
   ]
  },
  {
   "cell_type": "code",
   "execution_count": 70,
   "metadata": {
    "collapsed": false,
    "deletable": true,
    "editable": true
   },
   "outputs": [],
   "source": [
    "cdic={'time':t,'wrf':wrfc,'oper':operc}\n",
    "edic={'time':t[::6], 'erai':eraic}\n",
    "hdic={'time':th, 'hwrf':hwrfc}\n",
    "\n",
    "df1=pd.DataFrame.from_dict(cdic, orient='index')\n",
    "df2=pd.DataFrame.from_dict(edic)\n",
    "df3=pd.DataFrame.from_dict(hdic)\n",
    "\n",
    "df1 = df1.transpose()\n",
    "df1 = df1.set_index(['time'])\n",
    "df2 = df2.set_index(['time'])\n",
    "df3 = df3.set_index(['time'])\n"
   ]
  },
  {
   "cell_type": "code",
   "execution_count": 71,
   "metadata": {
    "collapsed": false,
    "deletable": true,
    "editable": true
   },
   "outputs": [],
   "source": [
    "totw=pd.concat([df1,df2,df3],axis=1)"
   ]
  },
  {
   "cell_type": "code",
   "execution_count": 87,
   "metadata": {
    "collapsed": false,
    "deletable": true,
    "editable": true
   },
   "outputs": [
    {
     "data": {
      "text/plain": [
       "<matplotlib.text.Text at 0x7ff74010f690>"
      ]
     },
     "execution_count": 87,
     "metadata": {},
     "output_type": "execute_result"
    },
    {
     "data": {
      "image/png": "[encoded data removed]",
      "text/plain": [
       "<matplotlib.figure.Figure at 0x7ff7401f3890>"
      ]
     },
     "metadata": {},
     "output_type": "display_data"
    }
   ],
   "source": [
    "ax=totw[['wrf','oper']].plot(figsize=(10, 5))\n",
    "totw['erai'].dropna().plot(ax=ax, linestyle='', marker='o')\n",
    "totw['hwrf'].dropna().plot(ax=ax)\n",
    "\n",
    "ax.legend(loc=0)\n",
    "ax.set_title('Maximum Wind')"
   ]
  },
  {
   "cell_type": "code",
   "execution_count": 88,
   "metadata": {
    "collapsed": true,
    "deletable": true,
    "editable": true
   },
   "outputs": [],
   "source": [
    "ax.figure.savefig('vel.png')"
   ]
  },
  {
   "cell_type": "code",
   "execution_count": null,
   "metadata": {
    "collapsed": true,
    "deletable": true,
    "editable": true
   },
   "outputs": [],
   "source": []
  },
  {
   "cell_type": "code",
   "execution_count": null,
   "metadata": {
    "collapsed": true
   },
   "outputs": [],
   "source": []
  },
  {
   "cell_type": "code",
   "execution_count": null,
   "metadata": {
    "collapsed": true
   },
   "outputs": [],
   "source": []
  }
 ],
 "metadata": {
  "hide_input": false,
  "kernelspec": {
   "display_name": "Python 2",
   "language": "python",
   "name": "python2"
  },
  "language_info": {
   "codemirror_mode": {
    "name": "ipython",
    "version": 2
   },
   "file_extension": ".py",
   "mimetype": "text/x-python",
   "name": "python",
   "nbconvert_exporter": "python",
   "pygments_lexer": "ipython2",
   "version": "2.7.12"
  },
  "latex_envs": {
   "bibliofile": "biblio.bib",
   "cite_by": "apalike",
   "current_citInitial": 1,
   "eqLabelWithNumbers": true,
   "eqNumInitial": 0
  },
  "widgets": {
   "state": {
    "2c01d46cfb434793be3c92b106825fb9": {
     "views": [
      {
       "cell_index": 53
      }
     ]
    }
   },
   "version": "1.2.0"
  }
 },
 "nbformat": 4,
 "nbformat_minor": 2
}
